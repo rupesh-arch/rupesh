{
 "cells": [
  {
   "cell_type": "code",
   "execution_count": 2,
   "id": "fed5482a-ac71-47d7-b640-7a42c16c2345",
   "metadata": {},
   "outputs": [
    {
     "name": "stdin",
     "output_type": "stream",
     "text": [
      "Enter a positive integer n:  22\n"
     ]
    },
    {
     "name": "stdout",
     "output_type": "stream",
     "text": [
      "\n",
      "Numbers from 1 to 22 are:\n",
      "1\n",
      "2\n",
      "3\n",
      "4\n",
      "5\n",
      "6\n",
      "7\n",
      "8\n",
      "9\n",
      "10\n",
      "11\n",
      "12\n",
      "13\n",
      "14\n",
      "15\n",
      "16\n",
      "17\n",
      "18\n",
      "19\n",
      "20\n",
      "21\n",
      "22\n",
      "\n",
      "The sum of all numbers from 1 to 22 is: 253\n"
     ]
    }
   ],
   "source": [
    "\n",
    "n = int(input(\"Enter a positive integer n: \"))\n",
    "\n",
    "\n",
    "print(\"\\nNumbers from 1 to\", n, \"are:\")\n",
    "for i in range(1, n + 1):\n",
    "    print(i)\n",
    "\n",
    "sum_numbers = 0\n",
    "i = 1\n",
    "while i <= n:\n",
    "    sum_numbers += i\n",
    "    i += 1\n",
    "\n",
    "print(\"\\nThe sum of all numbers from 1 to\", n, \"is:\", sum_numbers)\n"
   ]
  },
  {
   "cell_type": "code",
   "execution_count": null,
   "id": "c61b5d43-db39-4e14-9ba5-7bf3e6756fed",
   "metadata": {},
   "outputs": [],
   "source": []
  }
 ],
 "metadata": {
  "kernelspec": {
   "display_name": "Python [conda env:base] *",
   "language": "python",
   "name": "conda-base-py"
  },
  "language_info": {
   "codemirror_mode": {
    "name": "ipython",
    "version": 3
   },
   "file_extension": ".py",
   "mimetype": "text/x-python",
   "name": "python",
   "nbconvert_exporter": "python",
   "pygments_lexer": "ipython3",
   "version": "3.12.7"
  }
 },
 "nbformat": 4,
 "nbformat_minor": 5
}

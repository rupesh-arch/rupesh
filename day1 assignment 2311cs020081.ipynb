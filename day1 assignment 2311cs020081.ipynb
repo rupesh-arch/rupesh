{
 "cells": [
  {
   "cell_type": "markdown",
   "id": "052b4d31-f839-4966-a1f2-9f060c98e862",
   "metadata": {},
   "source": [
    "#### Write a program in Jupyter Notebook to declare variables of different data types (integer, float, string, and boolean). Print each variable and its type\n",
    "\n"
   ]
  },
  {
   "cell_type": "code",
   "execution_count": 3,
   "id": "e6de3cb4-1645-47e2-a388-7c6ce190df51",
   "metadata": {},
   "outputs": [
    {
     "name": "stdout",
     "output_type": "stream",
     "text": [
      "Integer Variable: 10, Type: <class 'int'>\n",
      "Float Variable: 3.14, Type: <class 'float'>\n",
      "String Variable: Hello, Jupyter!, Type: <class 'str'>\n",
      "Boolean Variable: True, Type: <class 'bool'>\n"
     ]
    }
   ],
   "source": [
    "# Declare variables of different data types\n",
    "integer_var = 10\n",
    "float_var = 3.14\n",
    "string_var = \"Hello, Jupyter!\"\n",
    "boolean_var = True\n",
    "\n",
    "# Print each variable and its type\n",
    "print(f\"Integer Variable: {integer_var}, Type: {type(integer_var)}\")\n",
    "print(f\"Float Variable: {float_var}, Type: {type(float_var)}\")\n",
    "print(f\"String Variable: {string_var}, Type: {type(string_var)}\")\n",
    "print(f\"Boolean Variable: {boolean_var}, Type: {type(boolean_var)}\")\n"
   ]
  },
  {
   "cell_type": "code",
   "execution_count": null,
   "id": "b97c0639-e298-48c6-bbca-1a3eba80a7cb",
   "metadata": {},
   "outputs": [],
   "source": []
  }
 ],
 "metadata": {
  "kernelspec": {
   "display_name": "Python 3 (ipykernel)",
   "language": "python",
   "name": "python3"
  },
  "language_info": {
   "codemirror_mode": {
    "name": "ipython",
    "version": 3
   },
   "file_extension": ".py",
   "mimetype": "text/x-python",
   "name": "python",
   "nbconvert_exporter": "python",
   "pygments_lexer": "ipython3",
   "version": "3.12.7"
  }
 },
 "nbformat": 4,
 "nbformat_minor": 5
}

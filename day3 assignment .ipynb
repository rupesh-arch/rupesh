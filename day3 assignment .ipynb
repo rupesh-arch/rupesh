{
 "cells": [
  {
   "cell_type": "markdown",
   "id": "a11ce556-bfca-4350-88aa-9bcdd8c1fadb",
   "metadata": {},
   "source": [
    "### Write a Python program that takes a student's marks in three subjects as input.\n",
    "If the average is greater than or equal to 90, print \"Grade: A\".\n",
    "If the average is between 80 and 89, print \"Grade: B\".\n",
    "If the average is between 70 and 79, print \"Grade: C\".\n",
    "Otherwise, print \"Grade: Fail\".\n",
    "\n"
   ]
  },
  {
   "cell_type": "code",
   "execution_count": 2,
   "id": "5a84a9c9-5c21-46e2-8ec3-64567c671310",
   "metadata": {},
   "outputs": [
    {
     "name": "stdout",
     "output_type": "stream",
     "text": [
      "List: [10, 20, 30, 40, 50]\n",
      "Element at index 0 in List: 10\n",
      "Element at index 3 in List: 40\n",
      "\n",
      "Tuple: (5, 10, 15, 20, 25)\n",
      "Element at index 1 in Tuple: 10\n",
      "Element at index 4 in Tuple: 25\n",
      "\n",
      "Dictionary: {'name': 'Alice', 'age': 30, 'city': 'New York', 'profession': 'Engineer', 'hobby': 'Reading'}\n",
      "Value for key 'name': Alice\n",
      "Value for key 'city': New York\n"
     ]
    }
   ],
   "source": [
    "# Create a List with 5 elements\n",
    "my_list = [10, 20, 30, 40, 50]\n",
    "\n",
    "# Create a Tuple with 5 elements\n",
    "my_tuple = (5, 10, 15, 20, 25)\n",
    "\n",
    "# Create a Dictionary with 5 key-value pairs\n",
    "my_dict = {\n",
    "    \"name\": \"Alice\",\n",
    "    \"age\": 30,\n",
    "    \"city\": \"New York\",\n",
    "    \"profession\": \"Engineer\",\n",
    "    \"hobby\": \"Reading\"\n",
    "}\n",
    "\n",
    "# Accessing elements by index for List\n",
    "print(f\"List: {my_list}\")\n",
    "print(f\"Element at index 0 in List: {my_list[0]}\")\n",
    "print(f\"Element at index 3 in List: {my_list[3]}\")\n",
    "\n",
    "# Accessing elements by index for Tuple\n",
    "print(f\"\\nTuple: {my_tuple}\")\n",
    "print(f\"Element at index 1 in Tuple: {my_tuple[1]}\")\n",
    "print(f\"Element at index 4 in Tuple: {my_tuple[4]}\")\n",
    "\n",
    "# Accessing elements in Dictionary by key\n",
    "print(f\"\\nDictionary: {my_dict}\")\n",
    "print(f\"Value for key 'name': {my_dict['name']}\")\n",
    "print(f\"Value for key 'city': {my_dict['city']}\")\n"
   ]
  },
  {
   "cell_type": "code",
   "execution_count": null,
   "id": "3340456e-11c5-437c-9919-17267540da72",
   "metadata": {},
   "outputs": [],
   "source": []
  }
 ],
 "metadata": {
  "kernelspec": {
   "display_name": "Python 3 (ipykernel)",
   "language": "python",
   "name": "python3"
  },
  "language_info": {
   "codemirror_mode": {
    "name": "ipython",
    "version": 3
   },
   "file_extension": ".py",
   "mimetype": "text/x-python",
   "name": "python",
   "nbconvert_exporter": "python",
   "pygments_lexer": "ipython3",
   "version": "3.12.7"
  }
 },
 "nbformat": 4,
 "nbformat_minor": 5
}

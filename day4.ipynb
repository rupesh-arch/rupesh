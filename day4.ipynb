{
 "cells": [
  {
   "cell_type": "markdown",
   "id": "f60742ec-fea9-47c9-a38f-f9432f612646",
   "metadata": {},
   "source": [
    "### Write a Python program to calculate the sum of all even numbers between 1 and a given positive integer n"
   ]
  },
  {
   "cell_type": "code",
   "execution_count": 2,
   "id": "3756654d-bb66-4005-8939-342be99d2254",
   "metadata": {},
   "outputs": [
    {
     "name": "stdin",
     "output_type": "stream",
     "text": [
      "Enter marks for subject 1:  2\n",
      "Enter marks for subject 2:  8\n",
      "Enter marks for subject 3:  5\n"
     ]
    },
    {
     "name": "stdout",
     "output_type": "stream",
     "text": [
      "Grade: Fail\n"
     ]
    }
   ],
   "source": [
    "# Taking input for the student's marks in three subjects\n",
    "subject1 = float(input(\"Enter marks for subject 1: \"))\n",
    "subject2 = float(input(\"Enter marks for subject 2: \"))\n",
    "subject3 = float(input(\"Enter marks for subject 3: \"))\n",
    "\n",
    "# Calculate the average of the marks\n",
    "average = (subject1 + subject2 + subject3) / 3\n",
    "\n",
    "# Determine the grade based on the average\n",
    "if average >= 90:\n",
    "    print(\"Grade: A\")\n",
    "elif 80 <= average < 90:\n",
    "    print(\"Grade: B\")\n",
    "elif 70 <= average < 80:\n",
    "    print(\"Grade: C\")\n",
    "else:\n",
    "    print(\"Grade: Fail\")\n"
   ]
  },
  {
   "cell_type": "code",
   "execution_count": null,
   "id": "0fae1e9f-ae0e-462d-b4b7-ef2c5e41b1bd",
   "metadata": {},
   "outputs": [],
   "source": []
  }
 ],
 "metadata": {
  "kernelspec": {
   "display_name": "Python 3 (ipykernel)",
   "language": "python",
   "name": "python3"
  },
  "language_info": {
   "codemirror_mode": {
    "name": "ipython",
    "version": 3
   },
   "file_extension": ".py",
   "mimetype": "text/x-python",
   "name": "python",
   "nbconvert_exporter": "python",
   "pygments_lexer": "ipython3",
   "version": "3.12.7"
  }
 },
 "nbformat": 4,
 "nbformat_minor": 5
}
